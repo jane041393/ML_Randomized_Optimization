{
 "cells": [
  {
   "cell_type": "code",
   "execution_count": 111,
   "metadata": {},
   "outputs": [],
   "source": [
    "import mlrose\n",
    "import numpy as np\n",
    "import time"
   ]
  },
  {
   "cell_type": "markdown",
   "metadata": {},
   "source": [
    "# n - Queen problem"
   ]
  },
  {
   "cell_type": "code",
   "execution_count": 112,
   "metadata": {},
   "outputs": [],
   "source": [
    "fitness = mlrose.Queens()"
   ]
  },
  {
   "cell_type": "code",
   "execution_count": 124,
   "metadata": {},
   "outputs": [],
   "source": [
    "problem_queen = mlrose.DiscreteOpt(length = 30, fitness_fn = fitness, maximize = False, max_val = 30)"
   ]
  },
  {
   "cell_type": "markdown",
   "metadata": {},
   "source": [
    "## simulated annealing"
   ]
  },
  {
   "cell_type": "code",
   "execution_count": 165,
   "metadata": {},
   "outputs": [
    {
     "name": "stdout",
     "output_type": "stream",
     "text": [
      "Wall time: 0.15705513954162598\n",
      "Best Fitness: 27.0\n",
      "Best State: [13 13  2 16 28 17 21 10  7  5  1 14  4 13 11  9 15 28 20 27 12 21  7  1\n",
      " 29 24 27 16 16  0]\n"
     ]
    }
   ],
   "source": [
    "np.random.seed(903434960)\n",
    "init_state = np.arange(30)\n",
    "t0 = time.time()\n",
    "best_state, best_fitness = mlrose.simulated_annealing(problem_queen, schedule = schedule, \\\n",
    "                                                      max_attempts = 1000, max_iters = 100, init_state = init_state)\n",
    "print (\"Wall time:\", time.time() - t0)\n",
    "print(\"Best Fitness:\", best_fitness)\n",
    "print(\"Best State:\", best_state)"
   ]
  },
  {
   "cell_type": "markdown",
   "metadata": {},
   "source": [
    "## random hill climbing"
   ]
  },
  {
   "cell_type": "code",
   "execution_count": 126,
   "metadata": {},
   "outputs": [
    {
     "name": "stdout",
     "output_type": "stream",
     "text": [
      "Wall time: 1.6026496887207031\n",
      "Best Fitness: 3.0\n",
      "Best State: [21 24  4 23 20  9  1  6 11  2 27 19  0  5  3 13 17 28 23 29 26 28 18  8\n",
      "  3 22 12  7 15 10]\n"
     ]
    }
   ],
   "source": [
    "np.random.seed(903434960)\n",
    "t0 = time.time()\n",
    "best_state, best_fitness = mlrose.random_hill_climb(problem_queen, max_attempts=100, max_iters=np.inf , \\\n",
    "                                                    restarts=3, init_state=None)\n",
    "\n",
    "print (\"Wall time:\", time.time() - t0)\n",
    "print(\"Best Fitness:\", best_fitness)\n",
    "print(\"Best State:\", best_state)"
   ]
  },
  {
   "cell_type": "markdown",
   "metadata": {},
   "source": [
    "## generic algorithm"
   ]
  },
  {
   "cell_type": "code",
   "execution_count": 127,
   "metadata": {},
   "outputs": [
    {
     "name": "stdout",
     "output_type": "stream",
     "text": [
      "Wall time: 22.55196523666382\n",
      "Best Fitness: 18.0\n",
      "Best State: [ 6 10 20 19 24 28  3  5 11 14 26 13 27 25  4 15 19 16 28  7 16 21 12 28\n",
      " 17 29  1 27  1  8]\n"
     ]
    }
   ],
   "source": [
    "np.random.seed(903434960)\n",
    "t0 = time.time()\n",
    "best_state, best_fitness = mlrose.genetic_alg(problem_queen, pop_size=200, mutation_prob=0.1, \\\n",
    "                                              max_attempts=100, max_iters= np.inf)\n",
    "print (\"Wall time:\", time.time() - t0)\n",
    "print(\"Best Fitness:\", best_fitness)\n",
    "print(\"Best State:\", best_state)"
   ]
  },
  {
   "cell_type": "markdown",
   "metadata": {},
   "source": [
    "## MIMIC"
   ]
  },
  {
   "cell_type": "code",
   "execution_count": 164,
   "metadata": {},
   "outputs": [
    {
     "name": "stdout",
     "output_type": "stream",
     "text": [
      "Wall time: 8.758070945739746\n",
      "Best Fitness: 22.0\n",
      "Best State: [ 2  6  9  9 18 13 19 26  6 20 27 27 17 24 11  4  8  2 25 21  4 12  5 13\n",
      " 23 16  8 18  7 28]\n"
     ]
    }
   ],
   "source": [
    "np.random.seed(903434960)\n",
    "t0 = time.time()\n",
    "best_state, best_fitness = mlrose.mimic(problem_queen, pop_size=20, keep_pct=0.2, max_attempts=20, max_iters=np.inf )\n",
    "\n",
    "print (\"Wall time:\", time.time() - t0)\n",
    "print(\"Best Fitness:\", best_fitness)\n",
    "print(\"Best State:\", best_state)"
   ]
  },
  {
   "cell_type": "markdown",
   "metadata": {},
   "source": [
    "# Travelling Saleperson Problems"
   ]
  },
  {
   "cell_type": "code",
   "execution_count": 132,
   "metadata": {},
   "outputs": [],
   "source": [
    "# Create list of city coordinates\n",
    "coords_list = [(1, 1), (4, 2), (5, 2), (6, 4), (4, 4), (3, 6), (1, 5), (2, 3)]\n",
    "# Initialize fitness function object using coords_list\n",
    "fitness_coords = mlrose.TravellingSales(coords = coords_list)"
   ]
  },
  {
   "cell_type": "code",
   "execution_count": 133,
   "metadata": {},
   "outputs": [],
   "source": [
    "# Create list of distances between pairs of cities\n",
    "dist_list = [(0, 1, 3.1623), (0, 2, 4.1231), (0, 3, 5.8310), (0, 4, 4.2426), \\\n",
    "             (0, 5, 5.3852), (0, 6, 4.0000), (0, 7, 2.2361), (1, 2, 1.0000), \\\n",
    "             (1, 3, 2.8284), (1, 4, 2.0000), (1, 5, 4.1231), (1, 6, 4.2426), \\\n",
    "             (1, 7, 2.2361), (2, 3, 2.2361), (2, 4, 2.2361), (2, 5, 4.4721), \\\n",
    "             (2, 6, 5.0000), (2, 7, 3.1623), (3, 4, 2.0000), (3, 5, 3.6056), \\\n",
    "             (3, 6, 5.0990), (3, 7, 4.1231), (4, 5, 2.2361), (4, 6, 3.1623), \\\n",
    "             (4, 7, 2.2361), (5, 6, 2.2361), (5, 7, 3.1623), (6, 7, 2.2361)]\n",
    "# Initialize fitness function object using dist_list\n",
    "fitness_dists = mlrose.TravellingSales(distances = dist_list)"
   ]
  },
  {
   "cell_type": "code",
   "execution_count": 135,
   "metadata": {},
   "outputs": [],
   "source": [
    "problem_fit = mlrose.TSPOpt(length = 8, coords = coords_list, maximize=False)"
   ]
  },
  {
   "cell_type": "code",
   "execution_count": 136,
   "metadata": {},
   "outputs": [],
   "source": [
    "# Define optimization problem object\n",
    "problem_no_fit = mlrose.TSPOpt(length = 28, coords = dist_list, maximize=False)"
   ]
  },
  {
   "cell_type": "markdown",
   "metadata": {},
   "source": [
    "## Genetic algorithm"
   ]
  },
  {
   "cell_type": "code",
   "execution_count": 138,
   "metadata": {},
   "outputs": [
    {
     "name": "stdout",
     "output_type": "stream",
     "text": [
      "Wall time: 20.975739240646362\n",
      "Best Fitness: 75.8708769800506\n",
      "Best State: [ 1  2 18 22 25 27 20 26  0  7  4  3 11 16 10 12 17  6  5 21 19 15 24 13\n",
      " 23  9 14  8]\n"
     ]
    }
   ],
   "source": [
    "# Set random seed\n",
    "np.random.seed(903434960)\n",
    "# Solve problem using the genetic algorithm\n",
    "t0 = time.time()\n",
    "best_state, best_fitness = mlrose.genetic_alg(problem_no_fit, pop_size=200, mutation_prob=0.1, \\\n",
    "                                              max_attempts=100, max_iters= np.inf)\n",
    "\n",
    "print (\"Wall time:\", time.time() - t0)\n",
    "print(\"Best Fitness:\", best_fitness)\n",
    "print(\"Best State:\", best_state)"
   ]
  },
  {
   "cell_type": "markdown",
   "metadata": {},
   "source": [
    "## Simulated Annealing"
   ]
  },
  {
   "cell_type": "code",
   "execution_count": 141,
   "metadata": {},
   "outputs": [
    {
     "name": "stdout",
     "output_type": "stream",
     "text": [
      "Wall time: 0.3291499614715576\n",
      "Best Fitness: 53.998271183778165\n",
      "Best State: [ 1  3  9 14 18 19  5 11 17 24 25 27 26 21 20 16 15 10  4  2  0  7  6 12\n",
      " 23 22 13  8]\n"
     ]
    }
   ],
   "source": [
    "# Set random seed\n",
    "np.random.seed(903434960)\n",
    "# Solve problem using the genetic algorithm\n",
    "t0 = time.time()\n",
    "best_state, best_fitness = mlrose.simulated_annealing(problem_no_fit, schedule = schedule, \\\n",
    "                                                      max_attempts = 100, max_iters = 1000, init_state = None)\n",
    "\n",
    "print (\"Wall time:\", time.time() - t0)\n",
    "print(\"Best Fitness:\", best_fitness)\n",
    "print(\"Best State:\", best_state)"
   ]
  },
  {
   "cell_type": "markdown",
   "metadata": {},
   "source": [
    "## Random hill climbing"
   ]
  },
  {
   "cell_type": "code",
   "execution_count": 161,
   "metadata": {},
   "outputs": [
    {
     "name": "stdout",
     "output_type": "stream",
     "text": [
      "Wall time: 1.3979730606079102\n",
      "Best Fitness: 51.4460651794231\n",
      "Best State: [16 20 23 21 24 26 25 27 22 18  9 14  8  1  3  4  2  0  7 13  5 10 15 19\n",
      " 17 12  6 11]\n"
     ]
    }
   ],
   "source": [
    "np.random.seed(903434960)\n",
    "t0 = time.time()\n",
    "best_state, best_fitness = mlrose.random_hill_climb(problem_no_fit, max_attempts=100, max_iters=np.inf , \\\n",
    "                                                    restarts=5, init_state=None)\n",
    "\n",
    "print (\"Wall time:\", time.time() - t0)\n",
    "print(\"Best Fitness:\", best_fitness)\n",
    "print(\"Best State:\", best_state)"
   ]
  },
  {
   "cell_type": "markdown",
   "metadata": {},
   "source": [
    "## MIMIC"
   ]
  },
  {
   "cell_type": "code",
   "execution_count": 163,
   "metadata": {},
   "outputs": [
    {
     "name": "stdout",
     "output_type": "stream",
     "text": [
      "Wall time: 80.67149472236633\n",
      "Best Fitness: 70.42135841812538\n",
      "Best State: [14 18 13 27 24  3  4  2 25 22 23 26 21 20 17  5 15  6 12  9  7  8 11 16\n",
      " 10 19  1  0]\n"
     ]
    }
   ],
   "source": [
    "np.random.seed(903434960)\n",
    "t0 = time.time()\n",
    "best_state, best_fitness = mlrose.mimic(problem_no_fit, pop_size=200, keep_pct=0.2, max_attempts=100, max_iters=np.inf )\n",
    "\n",
    "print (\"Wall time:\", time.time() - t0)\n",
    "print(\"Best Fitness:\", best_fitness)\n",
    "print(\"Best State:\", best_state)"
   ]
  },
  {
   "cell_type": "markdown",
   "metadata": {},
   "source": [
    "# Knapsack"
   ]
  },
  {
   "cell_type": "code",
   "execution_count": 155,
   "metadata": {},
   "outputs": [],
   "source": [
    "weights = [10, 5, 2, 8, 15, 4, 18, 14]\n",
    "values = [1, 2, 3, 4, 5, 4, 3, 2]\n",
    "max_weight_pct = 0.65\n",
    "fitness_pack = mlrose.Knapsack(weights, values, max_weight_pct)"
   ]
  },
  {
   "cell_type": "code",
   "execution_count": 156,
   "metadata": {},
   "outputs": [],
   "source": [
    "problem_pack = mlrose.DiscreteOpt(length = 8, fitness_fn = fitness_pack, maximize=True)"
   ]
  },
  {
   "cell_type": "markdown",
   "metadata": {},
   "source": [
    "## Genetic algorithm"
   ]
  },
  {
   "cell_type": "code",
   "execution_count": 157,
   "metadata": {},
   "outputs": [
    {
     "name": "stdout",
     "output_type": "stream",
     "text": [
      "Wall time: 22.844831943511963\n",
      "Best Fitness: 20.0\n",
      "Best State: [0 1 1 1 1 1 0 1]\n"
     ]
    }
   ],
   "source": [
    "# Set random seed\n",
    "np.random.seed(903434960)\n",
    "# Solve problem using the genetic algorithm\n",
    "t0 = time.time()\n",
    "best_state, best_fitness  = mlrose.genetic_alg(problem_pack, pop_size=200, mutation_prob=0.1, \\\n",
    "                                              max_attempts=1000, max_iters= np.inf)\n",
    "\n",
    "print (\"Wall time:\", time.time() - t0)\n",
    "print(\"Best Fitness:\", best_fitness)\n",
    "print(\"Best State:\", best_state)"
   ]
  },
  {
   "cell_type": "markdown",
   "metadata": {},
   "source": [
    "## Simulated Annealing"
   ]
  },
  {
   "cell_type": "code",
   "execution_count": 158,
   "metadata": {},
   "outputs": [
    {
     "name": "stdout",
     "output_type": "stream",
     "text": [
      "Wall time: 0.011976003646850586\n",
      "Best Fitness: 20.0\n",
      "Best State: [0 1 1 1 1 1 0 1]\n"
     ]
    }
   ],
   "source": [
    "# Set random seed\n",
    "np.random.seed(903434960)\n",
    "# Solve problem using the genetic algorithm\n",
    "t0 = time.time()\n",
    "best_state, best_fitness = mlrose.simulated_annealing(problem_pack, schedule = schedule, \\\n",
    "                                                      max_attempts = 100, max_iters = 1000, init_state = None )\n",
    "\n",
    "print (\"Wall time:\", time.time() - t0)\n",
    "print(\"Best Fitness:\", best_fitness)\n",
    "print(\"Best State:\", best_state)"
   ]
  },
  {
   "cell_type": "markdown",
   "metadata": {},
   "source": [
    "## Random hill climbing"
   ]
  },
  {
   "cell_type": "code",
   "execution_count": 159,
   "metadata": {},
   "outputs": [
    {
     "name": "stdout",
     "output_type": "stream",
     "text": [
      "Wall time: 0.030096054077148438\n",
      "Best Fitness: 17.0\n",
      "Best State: [0 1 1 1 1 0 1 0]\n"
     ]
    }
   ],
   "source": [
    "np.random.seed(903434960)\n",
    "t0 = time.time()\n",
    "best_state, best_fitness = mlrose.random_hill_climb(problem_pack, max_attempts=100, max_iters=np.inf , \\\n",
    "                                                    restarts=3, init_state=None)\n",
    "\n",
    "print (\"Wall time:\", time.time() - t0)\n",
    "print(\"Best Fitness:\", best_fitness)\n",
    "print(\"Best State:\", best_state)"
   ]
  },
  {
   "cell_type": "markdown",
   "metadata": {},
   "source": [
    "## MIMIC"
   ]
  },
  {
   "cell_type": "code",
   "execution_count": 160,
   "metadata": {},
   "outputs": [
    {
     "name": "stdout",
     "output_type": "stream",
     "text": [
      "Wall time: 0.3922920227050781\n",
      "Best Fitness: 20.0\n",
      "Best State: [0 1 1 1 1 1 0 1]\n"
     ]
    }
   ],
   "source": [
    "np.random.seed(903434960)\n",
    "t0 = time.time()\n",
    "best_state, best_fitness = mlrose.mimic(problem_pack, pop_size=200, keep_pct=0.2, max_attempts=10, max_iters=np.inf )\n",
    "\n",
    "print (\"Wall time:\", time.time() - t0)\n",
    "print(\"Best Fitness:\", best_fitness)\n",
    "print(\"Best State:\", best_state)"
   ]
  },
  {
   "cell_type": "code",
   "execution_count": null,
   "metadata": {},
   "outputs": [],
   "source": []
  }
 ],
 "metadata": {
  "kernelspec": {
   "display_name": "Python 3",
   "language": "python",
   "name": "python3"
  },
  "language_info": {
   "codemirror_mode": {
    "name": "ipython",
    "version": 3
   },
   "file_extension": ".py",
   "mimetype": "text/x-python",
   "name": "python",
   "nbconvert_exporter": "python",
   "pygments_lexer": "ipython3",
   "version": "3.7.0"
  }
 },
 "nbformat": 4,
 "nbformat_minor": 2
}
